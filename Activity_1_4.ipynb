{
  "cells": [
    {
      "cell_type": "code",
      "execution_count": 15,
      "metadata": {
        "id": "3qRy4gtJdAmm"
      },
      "outputs": [],
      "source": [
        "triangle_area = lambda b, h: 1/2 * b * h"
      ]
    },
    {
      "cell_type": "code",
      "execution_count": 16,
      "metadata": {
        "id": "U9G4RaJQegyY"
      },
      "outputs": [],
      "source": [
        "def triangle_area (b,h):\n",
        "    \"\"\"compute the area of a right triangle using its base and height\"\"\"\n",
        "    output =1/2 * b * h\n",
        "    return output"
      ]
    },
    {
      "cell_type": "code",
      "execution_count": 20,
      "metadata": {
        "id": "ciwOEO6yfi-I"
      },
      "outputs": [],
      "source": [
        "def test_triangle_area():\n",
        "    assert triangle_area(10,4) == 20\n",
        "    assert triangle_area(6,4) == 12\n",
        "    assert triangle_area(5,6) == 15\n",
        "test_triangle_area()"
      ]
    },
    {
      "cell_type": "code",
      "execution_count": 22,
      "metadata": {
        "id": "EtqwviYLiMUa"
      },
      "outputs": [],
      "source": [
        "def triangle_area (b,h):\n",
        "    \"\"\"compute the area of a right triangle using its base and height\"\"\"\n",
        "    output =1/2 * b * h\n",
        "    return output\n",
        "def test_triangle_area():\n",
        "    assert triangle_area(10,4) == 20\n",
        "    assert triangle_area(6,4) == 12\n",
        "    assert triangle_area(5,6) == 15\n",
        "test_triangle_area()"
      ]
    },
    {
      "cell_type": "code",
      "execution_count": 23,
      "metadata": {
        "colab": {
          "base_uri": "https://localhost:8080/"
        },
        "id": "uBF18UdVkHQm",
        "outputId": "31f65ab9-9642-49bd-8f8d-2c71ec62290f"
      },
      "outputs": [
        {
          "name": "stdout",
          "output_type": "stream",
          "text": [
            "Help on function triangle_area in module __main__:\n",
            "\n",
            "triangle_area(b, h)\n",
            "    compute the area of a right triangle using its base and height\n",
            "\n"
          ]
        }
      ],
      "source": [
        "help(triangle_area)"
      ]
    }
  ],
  "metadata": {
    "colab": {
      "provenance": []
    },
    "kernelspec": {
      "display_name": "Python 3",
      "name": "python3"
    },
    "language_info": {
      "name": "python"
    }
  },
  "nbformat": 4,
  "nbformat_minor": 0
}
